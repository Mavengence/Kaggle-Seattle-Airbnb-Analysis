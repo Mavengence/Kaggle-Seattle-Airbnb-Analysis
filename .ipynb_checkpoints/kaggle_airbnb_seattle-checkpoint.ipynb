{
 "cells": [
  {
   "cell_type": "markdown",
   "metadata": {},
   "source": [
    "# IS4861 Group Project - Seattle Airbnb Dataset\n",
    "\n",
    "### I analyse the Kaggle dataset from Airbnb Seattle to deduce some customer behaviour and apply our information gain to do better marketing strategies and maximize the market value."
   ]
  },
  {
   "cell_type": "markdown",
   "metadata": {},
   "source": [
    "### Import all packages"
   ]
  },
  {
   "cell_type": "code",
   "execution_count": 1,
   "metadata": {},
   "outputs": [
    {
     "name": "stderr",
     "output_type": "stream",
     "text": [
      "/Users/Loehr/anaconda3/lib/python3.6/site-packages/h5py/__init__.py:36: FutureWarning: Conversion of the second argument of issubdtype from `float` to `np.floating` is deprecated. In future, it will be treated as `np.float64 == np.dtype(float).type`.\n",
      "  from ._conv import register_converters as _register_converters\n",
      "Using TensorFlow backend.\n"
     ]
    },
    {
     "name": "stdout",
     "output_type": "stream",
     "text": [
      "[nltk_data] Downloading package stopwords to /Users/Loehr/nltk_data...\n",
      "[nltk_data]   Package stopwords is already up-to-date!\n"
     ]
    }
   ],
   "source": [
    "import pandas as pd\n",
    "import numpy as np\n",
    "from numpy import newaxis\n",
    "import glob\n",
    "import os, inspect\n",
    "from IPython.display import Image\n",
    "import sklearn\n",
    "import matplotlib.pyplot as plt\n",
    "from sklearn import metrics\n",
    "from sklearn import linear_model\n",
    "from sklearn.model_selection import cross_val_score, train_test_split\n",
    "from sklearn.tree import DecisionTreeClassifier\n",
    "import operator\n",
    "from zipfile import ZipFile\n",
    "from sklearn.preprocessing import PolynomialFeatures\n",
    "\n",
    "import re\n",
    "import nltk\n",
    "from nltk.corpus import stopwords\n",
    "from nltk.tokenize import word_tokenize\n",
    "from nltk.tokenize import RegexpTokenizer\n",
    "from nltk.stem import SnowballStemmer\n",
    "from nltk.stem.wordnet import WordNetLemmatizer\n",
    "from wordcloud import WordCloud\n",
    "\n",
    "from keras.models import Sequential\n",
    "from keras.layers import Input, Dense, Dropout, LSTM, Bidirectional, CuDNNLSTM, Activation, Embedding\n",
    "import keras\n",
    "\n",
    "try:\n",
    "  %tensorflow_version 2.x\n",
    "except Exception:\n",
    "  pass\n",
    "import tensorflow as tf\n",
    "\n",
    "try:\n",
    "    nltk.download('stopwords')\n",
    "except ImportError:\n",
    "    pass\n",
    "\n",
    "%matplotlib inline"
   ]
  },
  {
   "cell_type": "markdown",
   "metadata": {},
   "source": [
    "## Load the data into Panda Dateframes"
   ]
  },
  {
   "cell_type": "code",
   "execution_count": 2,
   "metadata": {},
   "outputs": [
    {
     "name": "stdout",
     "output_type": "stream",
     "text": [
      "Calendar: (1393570, 4)\n",
      "Listings: (3818, 92)\n"
     ]
    }
   ],
   "source": [
    "path = os.path.dirname(os.path.abspath(inspect.getfile(inspect.currentframe()))) + \"/seattle\"\n",
    "\n",
    "zf = ZipFile(str(path) + '.zip', 'r')\n",
    "zf.extractall(path)\n",
    "\n",
    "filenames = glob.glob(path + \"/*.csv\")\n",
    "\n",
    "all_data = []\n",
    "\n",
    "for filename in filenames:\n",
    "    df = pd.read_csv(filename, index_col=None, header=0)\n",
    "    all_data.append(df)\n",
    "\n",
    "#reviews = data[0]\n",
    "listings = all_data[1]\n",
    "calendar = all_data[2]\n",
    "\n",
    "calendar2 = calendar\n",
    "listings2 = listings\n",
    "\n",
    "print(\"Calendar: \" +str(calendar.shape))\n",
    "print(\"Listings: \" +str(listings.shape))"
   ]
  },
  {
   "cell_type": "markdown",
   "metadata": {},
   "source": [
    "# Preprocessing of the Data"
   ]
  },
  {
   "cell_type": "code",
   "execution_count": 3,
   "metadata": {},
   "outputs": [],
   "source": [
    "dataset = pd.merge(listings, calendar, left_on='id', right_on='listing_id', how='left').drop('listing_id', axis=1)\n",
    "dataset = dataset[::6]\n",
    "dataset = dataset.dropna(subset=['price_y'])"
   ]
  },
  {
   "cell_type": "code",
   "execution_count": 4,
   "metadata": {},
   "outputs": [
    {
     "name": "stdout",
     "output_type": "stream",
     "text": [
      "There are     5 unique '     host_response_time'\n",
      "There are    46 unique '     host_response_rate'\n",
      "There are     3 unique '   host_acceptance_rate'\n",
      "There are   338 unique '               bedrooms'\n",
      "There are   815 unique '              bathrooms'\n",
      "There are    71 unique '                   beds'\n",
      "There are   195 unique '      number_of_reviews'\n",
      "There are  1361 unique '             host_since'\n",
      "There are     3 unique '              room_type'\n",
      "There are    45 unique '           extra_people'\n",
      "There are     3 unique ' host_identity_verified'\n",
      "There are    15 unique '        guests_included'\n",
      "There are   554 unique '                price_y'\n",
      "\n",
      "------------------------\n",
      "For 155769 total entries\n"
     ]
    }
   ],
   "source": [
    "# tags with the price -> full dataset\n",
    "tags = ['host_response_time', 'host_response_rate', 'host_acceptance_rate', 'bedrooms', 'bathrooms', \n",
    "        'beds', 'number_of_reviews','host_since', 'room_type', 'extra_people', 'host_identity_verified',\n",
    "        'guests_included', 'price_y']\n",
    "\n",
    "# Tags without the price_y to split into \"X\" and the price_y to \"Y\" datasets.\n",
    "tags_x = ['host_response_time', 'host_response_rate', 'host_acceptance_rate', 'bedrooms', \n",
    "          'bathrooms', 'beds', 'number_of_reviews','host_since', 'room_type', 'extra_people', \n",
    "          'host_identity_verified', 'guests_included']\n",
    "\n",
    "for col in tags:    \n",
    "    idsUnique = len(set(dataset[col])) \n",
    "    idsTotal = dataset.shape[0] \n",
    "    idsDupli = idsTotal - idsUnique\n",
    "    print(\"There are %5d unique '%23s'\" % (idsUnique, col))\n",
    "print()\n",
    "print(\"------------------------\")\n",
    "print(\"For %d total entries\" % idsTotal )"
   ]
  },
  {
   "cell_type": "code",
   "execution_count": 5,
   "metadata": {},
   "outputs": [],
   "source": [
    "# Fill the rows with missing values up with default values to be able to calculate\n",
    "\n",
    "dataset.loc[:, \"host_response_time\"] = dataset.loc[:, \"host_response_time\"].fillna(0)\n",
    "dataset.loc[:, \"host_response_rate\"] = dataset.loc[:, \"host_response_rate\"].fillna(0)\n",
    "dataset.loc[:, \"host_acceptance_rate\"] = dataset.loc[:, \"host_acceptance_rate\"].fillna(0)\n",
    "dataset.loc[:, \"bathrooms\"] = dataset.loc[:, \"bathrooms\"].fillna(0)\n",
    "dataset.loc[:, \"bedrooms\"] = dataset.loc[:, \"bedrooms\"].fillna(0)\n",
    "dataset.loc[:, \"beds\"] = dataset.loc[:, \"beds\"].fillna(0)\n",
    "dataset.loc[:, \"number_of_reviews\"] = dataset.loc[:, \"number_of_reviews\"].fillna(0)\n",
    "dataset.loc[:, \"host_since\"] = dataset.loc[:, \"host_since\"].fillna(2018)\n",
    "dataset.loc[:, \"room_type\"] = dataset.loc[:, \"room_type\"].fillna('Private room')\n",
    "dataset.loc[:, \"extra_people\"] = dataset.loc[:, \"extra_people\"].fillna(0)\n",
    "dataset.loc[:, \"host_identity_verified\"] = dataset.loc[:, \"host_identity_verified\"].fillna('f')\n",
    "dataset.loc[:, \"guests_included\"] = dataset.loc[:, \"guests_included\"].fillna(0)\n",
    "\n",
    "dataset['host_response_rate'] = [rate.replace('%', '') for rate in dataset['host_response_rate'].astype(str)]\n",
    "dataset['bedrooms'] = dataset['bedrooms'].astype('int32')\n",
    "dataset['bathrooms'] = dataset['bathrooms'].astype('int32')\n",
    "dataset['beds'] = dataset['beds'].astype('int32')\n",
    "dataset['host_since'] = [host[:4] for host in dataset['host_since'].astype(str)]\n",
    "dataset['extra_people'] = [extra[:-3].replace('$', '') for extra in dataset['extra_people'].astype(str)]\n",
    "dataset['price_y'] = [price[:-3].replace('$', '').replace(',', '') for price in dataset['price_y'].astype(str)]"
   ]
  },
  {
   "cell_type": "code",
   "execution_count": 6,
   "metadata": {},
   "outputs": [],
   "source": [
    "# Replace categorical with numerical values to be able to fit the models\n",
    "\n",
    "dataset = dataset.replace({\"host_response_time\" : {np.isnan : 0, 'a few days or more' : 1, 'within a day' : 2, \n",
    "                                                   'within a few hours' : 3, 'within an hour': 4},\n",
    "                          \"host_acceptance_rate\" : {'0%': 0, '100%': 1},\n",
    "                           \"room_type\" : {'Entire home/apt': 3, 'Private room': 2, 'Shared room' : 1},\n",
    "                           \"host_identity_verified\" : {\"f\" : 0, \"t\" : 1}\n",
    "                          })"
   ]
  },
  {
   "cell_type": "code",
   "execution_count": 7,
   "metadata": {},
   "outputs": [
    {
     "name": "stdout",
     "output_type": "stream",
     "text": [
      "X Train data shape: (104365, 12)\n",
      "y Train data shape: (104365,)\n",
      "X Test data shape: (51404, 12)\n",
      "y Train data shape: (51404,)\n"
     ]
    }
   ],
   "source": [
    "y = dataset['price_y']\n",
    "dataset = dataset.drop('price_y', 1)\n",
    "\n",
    "# Split the data into Train 66% and Test 33%\n",
    "\n",
    "X_train, X_test, y_train, y_test = train_test_split(dataset[tags_x].astype(int), y, test_size=0.33, random_state=42)\n",
    "\n",
    "print(\"X Train data shape: \" +str(X_train.shape))\n",
    "print(\"y Train data shape: \" + str(y_train.shape))\n",
    "print(\"X Test data shape: \" + str(X_test.shape))\n",
    "print(\"y Train data shape: \" + str(y_test.shape))"
   ]
  },
  {
   "cell_type": "markdown",
   "metadata": {},
   "source": [
    "### Find correlation between amount of bedrooms and the price of the flat"
   ]
  },
  {
   "cell_type": "code",
   "execution_count": 8,
   "metadata": {},
   "outputs": [
    {
     "data": {
      "image/png": "[encoded data removed]",
      "text/plain": [
       "<Figure size 432x288 with 1 Axes>"
      ]
     },
     "metadata": {},
     "output_type": "display_data"
    }
   ],
   "source": [
    "# Sort by the amount of bedrooms to plot it correctly\n",
    "sorted_x = pd.DataFrame([X_train['bedrooms'], y_train]).T.astype(int)\n",
    "sorted_x = sorted_x.sort_values(by=['price_y'])\n",
    "\n",
    "plt.scatter(sorted_x.bedrooms, sorted_x.price_y)\n",
    "plt.title(\"Bedrooms price correlation\")\n",
    "plt.xlabel(\"Number bedrooms\")\n",
    "plt.ylabel(\"Price\")\n",
    "plt.yticks(np.arange(50, 2000, 200))\n",
    "plt.xticks(np.arange(1, len(set(sorted_x.bedrooms))))\n",
    "plt.show()"
   ]
  },
  {
   "cell_type": "markdown",
   "metadata": {},
   "source": [
    "### Linear Regression model to predict the y_price of the data with MAE as loss function"
   ]
  },
  {
   "cell_type": "code",
   "execution_count": 9,
   "metadata": {},
   "outputs": [
    {
     "name": "stdout",
     "output_type": "stream",
     "text": [
      "Mean absolute Error :     44.28\n",
      "Mean squared Error  :   5022.98\n"
     ]
    }
   ],
   "source": [
    "lr = linear_model.LinearRegression()\n",
    "lr.fit(X_train, y_train)\n",
    "\n",
    "y_pred = lr.predict(X_test)\n",
    "\n",
    "mae = metrics.mean_absolute_error(y_test, y_pred)\n",
    "mse = metrics.mean_squared_error(y_test, y_pred)\n",
    "\n",
    "print(\"Mean absolute Error : {:9.2f}\".format(round(mae, 2)))\n",
    "print(\"Mean squared Error  : {:9.2f}\".format(round(mse, 2)))"
   ]
  },
  {
   "cell_type": "code",
   "execution_count": 10,
   "metadata": {},
   "outputs": [
    {
     "data": {
      "text/plain": [
       "(104365, 12, 1)"
      ]
     },
     "execution_count": 10,
     "metadata": {},
     "output_type": "execute_result"
    }
   ],
   "source": [
    "# To fit the data into the Neural Network, we need to create a new dimension, because the LSTM model\n",
    "# expect format like (12, 1), since our data is 104365 and 12 features, we need to reshape it to (104365, 12, 1)\n",
    "# and cut away the first dimension when we give it as parameter to the neural net -> (12, 1)\n",
    "\n",
    "Xtrain = np.array(X_train)\n",
    "trainXs = Xtrain[:,:, newaxis]\n",
    "trainXs.shape"
   ]
  },
  {
   "cell_type": "markdown",
   "metadata": {},
   "source": [
    "### LSTM Neural Network"
   ]
  },
  {
   "cell_type": "code",
   "execution_count": 11,
   "metadata": {},
   "outputs": [],
   "source": [
    "# There are 12 input nodes, 32 nodes in the single hidden Layer and 1 Output Node\n",
    "# In total that makes 12*32 + 12 + 1 + 32*1 = 429 Nodes to train for 104365 data in the dataset\n",
    "\n",
    "simple_lstm_model = tf.keras.models.Sequential([\n",
    "    tf.keras.layers.LSTM(32, input_shape=trainXs.shape[-2:]),\n",
    "    tf.keras.layers.Dense(1)\n",
    "])\n",
    "\n",
    "simple_lstm_model.compile(optimizer=tf.train.AdamOptimizer(learning_rate=0.005), loss='mae')"
   ]
  },
  {
   "cell_type": "code",
   "execution_count": null,
   "metadata": {},
   "outputs": [
    {
     "name": "stdout",
     "output_type": "stream",
     "text": [
      "Epoch 1/5\n",
      "104365/104365 [==============================] - 11s 103us/step - loss: 124.2075\n",
      "Epoch 2/5\n",
      "104365/104365 [==============================] - 9s 83us/step - loss: 104.9781\n",
      "Epoch 3/5\n",
      "102400/104365 [============================>.] - ETA: 0s - loss: 89.5892"
     ]
    }
   ],
   "source": [
    "simple_lstm_model.fit(trainXs, y_train, epochs=5, batch_size=1024)"
   ]
  },
  {
   "cell_type": "markdown",
   "metadata": {},
   "source": [
    "## I try to find out the vibe of the neighbourhood by doing sentiment analysis of the reviews of the customers and extract the peoples thoughts about the accommodation and city"
   ]
  },
  {
   "cell_type": "code",
   "execution_count": null,
   "metadata": {},
   "outputs": [],
   "source": [
    "data = dict()\n",
    "# Stem the words to their origin:  played -> play\n",
    "stemmer = SnowballStemmer(\"english\")\n",
    "\n",
    "# combine review with city name together in data array\n",
    "for nh, overview in zip(listings['neighbourhood'].dropna().astype(str), listings['neighborhood_overview'].astype(str)):\n",
    "    if(nh in data):\n",
    "        data[nh] += overview\n",
    "    else:\n",
    "        data[nh] = overview\n",
    "\n",
    "nb_vibe = {}\n",
    "nb_freq = {} \n",
    " \n",
    "# Natural Language Processing Preprocessing for all the reviews\n",
    "for nh in data:\n",
    "    t = RegexpTokenizer(r'\\w+')     # Get rid of .,?!\"\" and additional spaces\n",
    "    tokens = t.tokenize(data[nh])   # Tokenize a sentence and splits it by a space\n",
    "    \n",
    "    stop_words = set(stopwords.words('english'))   # Remove Stopwords aka \"and\" or \"with\"\n",
    "    stop_words2 = [*nh.lower().split(' '), 'seattle', 'neighborhood']   # lower the caps of the words\n",
    "    \n",
    "    # Apply all of that\n",
    "    tokens = [w.lower() for w in tokens if not w in stop_words]\n",
    "    tokens = [w for w in tokens if not w in stop_words2]\n",
    "    tokens = [stemmer.stem(WordNetLemmatizer().lemmatize(token, pos='v')) for token in tokens]\n",
    "    \n",
    "    # Calculate the frequency count of the words\n",
    "    frequency_dist = nltk.FreqDist(tokens)\n",
    "    nb_freq[nh] = frequency_dist\n",
    "    \n",
    "    # I store the 50 most used words in the nb_vibe array\n",
    "    nb_vibe[nh] = sorted(frequency_dist, key=frequency_dist.__getitem__, reverse=True)[0:50]"
   ]
  },
  {
   "cell_type": "code",
   "execution_count": null,
   "metadata": {},
   "outputs": [],
   "source": [
    "# Use the 6 citys with the most reviews to apply the 50 most frequent words on\n",
    "max_words = {}\n",
    "for nh in nb_vibe:\n",
    "    max_words[nh] = len(data[nh])\n",
    "    \n",
    "top_reviewed_citys = sorted(max_words, key=max_words.get)[::-1][:6]\n",
    "print(top_reviewed_citys)"
   ]
  },
  {
   "cell_type": "markdown",
   "metadata": {},
   "source": [
    "## Create Wordcloud to visualize the 50 most used words in the review"
   ]
  },
  {
   "cell_type": "code",
   "execution_count": null,
   "metadata": {},
   "outputs": [],
   "source": [
    "fig, ((ax1, ax2), (ax3, ax4), (ax5, ax6)) = plt.subplots(nrows=3, ncols=2, figsize=(17,15))\n",
    "axs = [ax1, ax2, ax3, ax4, ax5, ax6]\n",
    "\n",
    "for ax, city in zip(axs, top_reviewed_citys):\n",
    "    wordcloud = WordCloud(max_font_size=100, \n",
    "                          max_words=20, background_color=\"white\").generate_from_frequencies(nb_freq[city])\n",
    "    ax.imshow(wordcloud, interpolation=\"bilinear\")\n",
    "    ax.axis(\"off\")\n",
    "    ax.set_title(city, fontsize=25)"
   ]
  },
  {
   "cell_type": "code",
   "execution_count": null,
   "metadata": {},
   "outputs": [],
   "source": [
    "nb = listings[['review_scores_value', 'neighbourhood']].dropna()\n",
    "X = np.array(nb['neighbourhood'])\n",
    "y = np.array(nb['review_scores_value'].astype(int))\n",
    "\n",
    "print(\"X: Neighbourhood: \" + str(X.shape))\n",
    "print(\"Y: Score for the accommodation: \" +str(y.shape))\n",
    "print(\"Unique Neighbourhoods: \" + str(len(set(X))))"
   ]
  },
  {
   "cell_type": "code",
   "execution_count": null,
   "metadata": {},
   "outputs": [],
   "source": [
    "# Apply the scores to the unique citys\n",
    "rating = dict()\n",
    "\n",
    "for r, nb in zip(y, X):\n",
    "    if(nb not in rating):\n",
    "        rating[nb] = [r, 1]\n",
    "    else:\n",
    "        rating[nb][0] += r\n",
    "        rating[nb][1] += 1"
   ]
  },
  {
   "cell_type": "markdown",
   "metadata": {},
   "source": [
    "## To understand the value of a review score i visualize the all the scores the people gave to the airbnb accommodations. \n",
    "\n",
    "It seems that the people have a high tendencie to rate the accommodation pretty high, which results in rather unprecise analysis. The score of the review is nothing to highly rely on.\n",
    "\n",
    "This is why i use the amount of reviews used for every city and not decide by the mean score"
   ]
  },
  {
   "cell_type": "code",
   "execution_count": null,
   "metadata": {},
   "outputs": [],
   "source": [
    "nb = listings[['neighborhood_overview', 'review_scores_value', 'neighbourhood']].dropna()\n",
    "text = np.array(nb['neighborhood_overview'])\n",
    "label = nb['review_scores_value'].astype(int)\n",
    "\n",
    "# Sort, Sum and ocunt the ratings of all the citys\n",
    "x = sorted(rating.items(), key=lambda x: x[1])[::-1][:20]\n",
    "names = [x[0] for x in x]\n",
    "x_sum = [x[1][0] for x in x]\n",
    "y_count = [x[1][1] for x in x]\n",
    "x_mean = []\n",
    "\n",
    "for x, y in zip(x_sum, y_count):\n",
    "    x_mean.append(x/y)\n",
    "\n",
    "fig, (ax1, ax2) = plt.subplots(nrows=2, ncols=1, figsize=(15,10))\n",
    "    \n",
    "ax1.hist(label)\n",
    "ax1.set_title(\"Occurrences of review scores\")\n",
    "\n",
    "for i, name in enumerate(names):\n",
    "    ax2.annotate(name, (x_mean[i], y_count[i]))\n",
    "\n",
    "ax2.scatter(x_mean, y_count)\n",
    "ax2.set_title(\"Compare the neighbourhoods\")\n",
    "ax2.set_ylabel(\"Number of Reviews\")\n",
    "ax2.set_xlabel(\"Mean Rating\")\n",
    "plt.show()"
   ]
  },
  {
   "cell_type": "markdown",
   "metadata": {},
   "source": [
    "# Busiest times of the year"
   ]
  },
  {
   "cell_type": "code",
   "execution_count": null,
   "metadata": {},
   "outputs": [],
   "source": [
    "calendar = calendar.dropna()\n",
    "dates = calendar['date']\n",
    "price = calendar['price']\n",
    "\n",
    "year_date = {date: 0 for date in set(dates)}\n",
    "months = ['January', 'February', 'March', 'April', 'May', 'June', 'July', 'August', 'September', \n",
    "         'October', 'November', 'December', 'January']\n",
    "\n",
    "for date in dates:\n",
    "    year_date[date] += 1\n",
    "\n",
    "# empty array to be filled with the monthly visitors per month\n",
    "monthly_visitors = np.zeros(12)\n",
    "    \n",
    "year_num = []\n",
    "\n",
    "# Iterate over all entries and append the single counts of customers\n",
    "for i, date in enumerate(year_date.items()):\n",
    "    year_num.append(date[1])\n",
    "    \n",
    "for date in year_date:\n",
    "    monthly_visitors[int(date.split('-')[1]) - 1] += year_date[date]\n",
    "\n",
    "monthly_visitors = [int(visitors) for visitors in monthly_visitors]\n",
    "\n",
    "print(\"Monthly visitors for example for January: \" +str(monthly_visitors[0]))"
   ]
  },
  {
   "cell_type": "markdown",
   "metadata": {},
   "source": [
    "### I estimate the amount of visitors for the year 2017 with a Polynomial Linear Regression"
   ]
  },
  {
   "cell_type": "code",
   "execution_count": null,
   "metadata": {},
   "outputs": [],
   "source": [
    "y = np.array(monthly_visitors)\n",
    "X = np.array(np.arange(1, 13))\n",
    "\n",
    "# Polynomial Regression expects a third dimension like the Neural Network (x, y, 1)\n",
    "X = X[:, np.newaxis]\n",
    "y = y[:, np.newaxis]\n",
    "\n",
    "# Fit the Polynomial Regression\n",
    "polynomial_features= PolynomialFeatures(degree=5)\n",
    "x_poly = polynomial_features.fit_transform(X)\n",
    "\n",
    "# Fit the Linear Regression\n",
    "linreg = linear_model.LinearRegression()\n",
    "linreg.fit(x_poly, y)\n",
    "\n",
    "# Predict all months in 2017\n",
    "y_poly_pred = linreg.predict(x_poly)\n",
    "\n",
    "#print(\"Y = \" + str(lr.coef_[0]) + \"X + \"+ str(round(lr.intercept_[0], 2)))\n",
    "\n",
    "plt.figure(figsize=(15,5))\n",
    "plt.scatter(X, y)\n",
    "plt.plot(np.arange(1, len(y_poly_pred) + 1), y_poly_pred)\n",
    "plt.plot(X, y_poly_pred, color=\"red\")\n",
    "plt.title(\"Prediction for 2017\", fontsize=20)\n",
    "plt.xlabel(\"Months\")\n",
    "plt.ylabel(\"Exact Visiter Count\")\n",
    "plt.yticks(np.arange(50000, 110000, 10000))\n",
    "plt.xticks(np.arange(1, 13), months)\n",
    "plt.show()"
   ]
  },
  {
   "cell_type": "markdown",
   "metadata": {},
   "source": [
    "### I estimate the amount of daily visitors for the year 2016 with a Polynomial Linear Regression"
   ]
  },
  {
   "cell_type": "code",
   "execution_count": null,
   "metadata": {},
   "outputs": [],
   "source": [
    "y = np.array(year_num)\n",
    "X = np.array(np.arange(1, len(year_num) + 1))\n",
    "\n",
    "# Polynomial Regression expects a third dimension like the Neural Network (x, y, 1)\n",
    "X = X[:, np.newaxis]\n",
    "y = y[:, np.newaxis]\n",
    "\n",
    "# Fit the Polynomial Regression\n",
    "polynomial_features= PolynomialFeatures(degree=5)\n",
    "x_poly = polynomial_features.fit_transform(X)\n",
    "\n",
    "# Fit the Linear Regression\n",
    "lr = linear_model.LinearRegression()\n",
    "lr.fit(x_poly, y)\n",
    "y_pred = lr.predict(x_poly)\n",
    "\n",
    "print(\"Y = \" + str(lr.coef_[0]) + \"X + \"+ str(round(lr.intercept_[0], 2)))\n",
    "\n",
    "plt.figure(figsize=(15,5))\n",
    "plt.plot(np.arange(1, len(year_num) + 1), year_num)\n",
    "plt.plot(X, y_pred, color=\"red\")\n",
    "plt.title(\"Busiest times of the year 2016\", fontsize=20)\n",
    "plt.xlabel(\"Months\")\n",
    "plt.ylabel(\"Exact Visiter Count\")\n",
    "plt.yticks(np.arange(1500, 3250, 150))\n",
    "plt.xticks(np.arange(1, 395, 31), months)\n",
    "plt.show()"
   ]
  },
  {
   "cell_type": "markdown",
   "metadata": {},
   "source": [
    "## Actual occupation of the 3861 Airbnb accommodations\n",
    "\n",
    "Since it was hard figure out when a flat is really occupied by a costumer or when a flat is just currently not available, because the owner doesn't want people to live in at the moment, i assume that a free flat counts as no visitor and a occupied flat counts as a costumer is living in the flat.\n",
    "\n",
    "For this ratio between empty and occupied we did all the below calculations"
   ]
  },
  {
   "cell_type": "code",
   "execution_count": null,
   "metadata": {},
   "outputs": [],
   "source": [
    "# Create a new DataFrame\n",
    "new_listings = listings2[['id', 'beds', 'availability_30', 'availability_365']] \n",
    "\n",
    "# Merge the Calendar and Listings DataFrame with neccessaty columns\n",
    "availability = pd.merge(new_listings, calendar2, left_on='id', right_on='listing_id', \n",
    "                        how='left').drop('listing_id', axis=1)\n",
    "# Little preprocessing\n",
    "availability = availability.replace({\"available\" : {\"t\": 1, \"f\": 0}}).drop('price', 1)\n",
    "\n",
    "# Devide and group by the free = 1 and occupied = 0 flats.\n",
    "daily_available = availability.groupby([availability.date, availability.available]).count()\n",
    "daily_available = np.array(daily_available['id'])"
   ]
  },
  {
   "cell_type": "code",
   "execution_count": null,
   "metadata": {},
   "outputs": [],
   "source": [
    "# Total Count of free and occupied days\n",
    "daily_free = daily_available[::2]\n",
    "daily_occupied = daily_available[1::2]\n",
    "\n",
    "# Ratios of free and occupied days\n",
    "daily_free_rate = (daily_free / (daily_free + daily_occupied))\n",
    "daily_occupied_rate = (daily_occupied / (daily_free + daily_occupied))"
   ]
  },
  {
   "cell_type": "markdown",
   "metadata": {},
   "source": [
    "## Plot of the ratio of the year 2016\n",
    "\n",
    "Since I use the ratio, the y axis at 1 signals the 100%. We can observe, that in January there is more or less half of all flats available, whereas there are 3 main intervalls over the year.\n",
    "Most people visit Seattle in April, end of June and Christmas."
   ]
  },
  {
   "cell_type": "code",
   "execution_count": null,
   "metadata": {},
   "outputs": [],
   "source": [
    "plt.figure(figsize=[15,5])\n",
    "plt.bar(np.arange(1,366), daily_occupied_rate + daily_free_rate, width = 0.9, color='red',alpha=1, label=\"Occupied\")\n",
    "plt.bar(np.arange(1,366), daily_free_rate, width = 0.5, color='blue',alpha=1, label=\"Free\")\n",
    "plt.xlim(min(np.arange(1,366)), max(np.arange(1,366)))\n",
    "plt.grid(axis='y', alpha=0.75)\n",
    "plt.legend(['Occupied', 'Free'], prop={'size': 16})\n",
    "plt.xlabel('Months',fontsize=15)\n",
    "plt.ylabel('Total Capacity',fontsize=15)\n",
    "plt.xticks(np.arange(1, 395, 31), months)\n",
    "plt.yticks(fontsize=15)\n",
    "plt.ylabel('Costumer living in flat per day',fontsize=15)\n",
    "plt.title('Accommodations ratio of being occupied and available in percent in year 2016',fontsize=15)\n",
    "plt.show()"
   ]
  },
  {
   "cell_type": "code",
   "execution_count": null,
   "metadata": {},
   "outputs": [],
   "source": [
    "# Preprocessing for the mean calculation. More complicated programmed then neccessary.\n",
    "occupy_rate = pd.DataFrame()\n",
    "occupy_rate = availability.groupby([availability.date]).count()\n",
    "occupy_rate['rate'] = daily_occupied_rate\n",
    "most_visited_days = occupy_rate.sort_values('rate')[::-1][:30]\n",
    "\n",
    "# Assign new DataFrame\n",
    "date_price = calendar\n",
    "date_price = date_price[['date', 'price']].dropna(0)\n",
    "\n",
    "date_price['price'] = [x.replace('$', '')[:-3] for x in date_price['price']]\n",
    "date_price = date_price.sort_values(['date', 'price'])\n",
    "\n",
    "x = np.array(date_price['date'])\n",
    "y = np.array(date_price['price'])\n",
    "\n",
    "x_set = np.array([x for x in set(x)])\n",
    "x_set.shape\n",
    "\n",
    "monthly_mean = {x: [] for x in np.arange(1,13)}\n",
    "\n",
    "# Split date '2016-01-04' into ['2016', '01', '04'] to select by month\n",
    "for date, price in zip(x, y):\n",
    "    month = int(date.split('-')[1])\n",
    "    price = price.replace(',', '')\n",
    "    price = int(price)\n",
    "    monthly_mean[month].append(price)\n",
    "\n",
    "mean_prices = {x: 0 for x in np.arange(1,13)}\n",
    "\n",
    "# Append all entries to a new array to calculate mean\n",
    "for month in monthly_mean.items():\n",
    "    value = 0\n",
    "    for number in month[1]:\n",
    "        value += int(number)\n",
    "    value /= len(month[1])\n",
    "    mean_prices[month[0]] = value"
   ]
  },
  {
   "cell_type": "code",
   "execution_count": null,
   "metadata": {},
   "outputs": [],
   "source": [
    "# Calculate the mean\n",
    "mean_price = []\n",
    "for price in mean_prices.items():\n",
    "    mean_price.append(price[1])"
   ]
  },
  {
   "cell_type": "markdown",
   "metadata": {},
   "source": [
    "## The price fluctuation over the year 2016\n",
    "\n",
    "I can observe, that eventhough in christmas there is a peak of costumers, the price is rather low.\n",
    "Whereas in the June and July sommer vacation time, in which also a lot of people arrive, we have the highest price. \n",
    "\n",
    "The flat owners apparently try to make the most money out of the flats in the summer time"
   ]
  },
  {
   "cell_type": "code",
   "execution_count": null,
   "metadata": {},
   "outputs": [],
   "source": [
    "plt.figure(figsize=[15,5])\n",
    "plt.title(\"Mean Flat prices over the year 2016\")\n",
    "plt.plot(np.arange(1, 13), mean_price, 'r->')\n",
    "plt.ylabel(\"Mean Price in $\")\n",
    "plt.xlabel(\"Months\")\n",
    "plt.xticks(np.arange(1, 14), months)\n",
    "plt.yticks(fontsize=15)\n",
    "plt.show()"
   ]
  }
 ],
 "metadata": {
  "kernelspec": {
   "display_name": "Python 3",
   "language": "python",
   "name": "python3"
  },
  "language_info": {
   "codemirror_mode": {
    "name": "ipython",
    "version": 3
   },
   "file_extension": ".py",
   "mimetype": "text/x-python",
   "name": "python",
   "nbconvert_exporter": "python",
   "pygments_lexer": "ipython3",
   "version": "3.6.8"
  }
 },
 "nbformat": 4,
 "nbformat_minor": 2
}
